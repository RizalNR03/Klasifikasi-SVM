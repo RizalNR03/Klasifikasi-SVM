{
  "nbformat": 4,
  "nbformat_minor": 0,
  "metadata": {
    "colab": {
      "provenance": []
    },
    "kernelspec": {
      "name": "python3",
      "display_name": "Python 3"
    },
    "language_info": {
      "name": "python"
    }
  },
  "cells": [
    {
      "cell_type": "code",
      "execution_count": 1,
      "metadata": {
        "id": "_2u7PglfY9PH"
      },
      "outputs": [],
      "source": [
        "import numpy as np\n",
        "import pandas as pd\n",
        "from matplotlib import pyplot as plt\n",
        "from sklearn import svm"
      ]
    },
    {
      "cell_type": "code",
      "source": [
        "data1 = pd.read_excel('Dataset_SVM.xlsx')\n",
        "x1 = data1['tb']\n",
        "x2 = data1['bb']\n",
        "x_training = np.array(list(zip(x1,x2)))\n",
        "y_training = data1['kelulusan']\n",
        "print(data1)\n",
        "nama_kelas = ['-1','+1']"
      ],
      "metadata": {
        "colab": {
          "base_uri": "https://localhost:8080/"
        },
        "id": "DaLMcabZZJ96",
        "outputId": "b890b706-74a0-4635-f996-f2950d09bc72"
      },
      "execution_count": 3,
      "outputs": [
        {
          "output_type": "stream",
          "name": "stdout",
          "text": [
            "    tb  bb  kelulusan\n",
            "0  166  65          1\n",
            "1  181  81         -1\n",
            "2  175  60         -1\n",
            "3  169  62          1\n",
            "4  155  55         -1\n",
            "5  162  59          1\n",
            "6  167  60         -1\n"
          ]
        }
      ]
    },
    {
      "cell_type": "code",
      "source": [
        "i_plus = y_training[y_training>0].index\n",
        "i_min = y_training[y_training<0].index\n",
        "\n",
        "x_as = []\n",
        "tb = int(input('Tinggi Badan : '))\n",
        "bb = int(input('Berat Badan : '))\n",
        "x_as.append(tb)\n",
        "x_as.append(bb)\n",
        "x_asing = [x_as]"
      ],
      "metadata": {
        "colab": {
          "base_uri": "https://localhost:8080/"
        },
        "id": "azuwH9CYZaMk",
        "outputId": "beae52fc-836b-4912-d6be-5f06a6f75776"
      },
      "execution_count": 4,
      "outputs": [
        {
          "name": "stdout",
          "output_type": "stream",
          "text": [
            "Tinggi Badan : 162\n",
            "Berat Badan : 85\n"
          ]
        }
      ]
    },
    {
      "cell_type": "code",
      "source": [
        "plt.figure()\n",
        "plt.scatter(x_training[i_min,0],x_training[i_min,1],c='b',s=100)\n",
        "plt.scatter(x_training[i_plus,0],x_training[i_plus,1],c='r',s=100)\n",
        "plt.scatter(x_asing[0][0],x_asing[0][1],c='g',s=100)\n",
        "plt.legend(nama_kelas)\n",
        "plt.title('Kasus Linear')\n"
      ],
      "metadata": {
        "colab": {
          "base_uri": "https://localhost:8080/",
          "height": 469
        },
        "id": "WRGRiha4ZdaQ",
        "outputId": "ffe90a5a-651b-4c62-9922-41268dcc5d28"
      },
      "execution_count": 5,
      "outputs": [
        {
          "output_type": "execute_result",
          "data": {
            "text/plain": [
              "Text(0.5, 1.0, 'Kasus Linear')"
            ]
          },
          "metadata": {},
          "execution_count": 5
        },
        {
          "output_type": "display_data",
          "data": {
            "text/plain": [
              "<Figure size 640x480 with 1 Axes>"
            ],
            "image/png": "[encoded data removed]"
          },
          "metadata": {}
        }
      ]
    },
    {
      "cell_type": "code",
      "source": [
        "svc = svm.SVC(kernel='linear').fit(x_training,y_training)\n",
        "weight = svc.coef_\n",
        "intercept = svc.intercept_\n",
        "a = -weight[0,0] / weight[0,1]\n",
        "b = -intercept[0]/weight[0,1]\n",
        "print('Kategori Data Asing : ' + str(svc.predict(x_asing)))\n"
      ],
      "metadata": {
        "colab": {
          "base_uri": "https://localhost:8080/"
        },
        "id": "bwnzAVSkZexg",
        "outputId": "51577db4-5e0d-43ca-b6b0-fa845ace1546"
      },
      "execution_count": 7,
      "outputs": [
        {
          "output_type": "stream",
          "name": "stdout",
          "text": [
            "Kategori Data Asing : [1]\n"
          ]
        }
      ]
    },
    {
      "cell_type": "code",
      "source": [
        "if (str(svc.predict(x_asing))) == \"[-1]\":\n",
        "    print('Tidak Lolos')\n",
        "elif (str(svc.predict(x_asing))) == \"[1]\":\n",
        "    print('Lolos')\n",
        "plt.show()"
      ],
      "metadata": {
        "colab": {
          "base_uri": "https://localhost:8080/"
        },
        "id": "KXmtPfZOZf1M",
        "outputId": "7211b991-1de2-448d-c0b6-83758f51f017"
      },
      "execution_count": 8,
      "outputs": [
        {
          "output_type": "stream",
          "name": "stdout",
          "text": [
            "Lolos\n"
          ]
        }
      ]
    }
  ]
}